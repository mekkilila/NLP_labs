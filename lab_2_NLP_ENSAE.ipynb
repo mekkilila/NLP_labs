{
  "nbformat": 4,
  "nbformat_minor": 0,
  "metadata": {
    "colab": {
      "name": "lab-2-NLP-ENSAE.ipynb",
      "provenance": [],
      "collapsed_sections": [],
      "toc_visible": true
    },
    "kernelspec": {
      "name": "python3",
      "display_name": "Python 3"
    }
  },
  "cells": [
    {
      "cell_type": "markdown",
      "metadata": {
        "id": "Uy2u0Ngs1R-w",
        "colab_type": "text"
      },
      "source": [
        "# Lab session 2 : Word Embeddings and their evaluation\n",
        "\n",
        "In this session we will use the following corpuses to train embeddings : \n",
        "- A political media corpus, consisting of tweets from politicians\n",
        "- Economical news\n",
        "- A corpus containing stories of films from the IMDB\n",
        "- A corpus containing human-rated similarities between\n",
        "\n",
        "## 1. Write a function that cleans a given text, i.e :\n",
        " - Lower-case the text\n",
        " - Tokenizes\n",
        " - Separates sentences\n",
        " - Detects multi-word expressions (i.e. \"New\", York\" becomes \"New York\")\n",
        "\n",
        "## 2. Build the 3 cleaned corpuses with your cleaning function. (1 corpus = 1 list of cleaned and tokenized sentences).\n",
        "\n",
        "## 3. Train a Word2Vec model with Gensim for the 3 corpuses, and explore the most similar words to \"man\", \"woman\", \"politician', etc. for the corpuses. \n",
        "\n",
        "## 4. Export the embeddings as two .tsv files to use projector.tensorflow.org interactive visualisation. \n",
        "\n",
        "## 5. Write an evaluation function that computes the correlation coefficient between human-rated similarity and Word2Vec's cosine similarity\n",
        "\n",
        "\n"
      ]
    },
    {
      "cell_type": "code",
      "metadata": {
        "id": "jPzymkod1P9E",
        "colab_type": "code",
        "outputId": "759efab5-ef47-41c6-af13-732dcf227368",
        "colab": {
          "base_uri": "https://localhost:8080/",
          "height": 598
        }
      },
      "source": [
        "! wget https://d1p17r2m4rzlbo.cloudfront.net/wp-content/uploads/2016/03/Political-media-DFE.csv\n",
        "! wget https://d1p17r2m4rzlbo.cloudfront.net/wp-content/uploads/2016/03/Full-Economic-News-DFE-839861.csv\n",
        "! wget https://d1p17r2m4rzlbo.cloudfront.net/wp-content/uploads/2016/03/1377883875_similar_word_combinations-1.csv"
      ],
      "execution_count": 0,
      "outputs": [
        {
          "output_type": "stream",
          "text": [
            "--2020-02-12 10:04:09--  https://d1p17r2m4rzlbo.cloudfront.net/wp-content/uploads/2016/03/Political-media-DFE.csv\n",
            "Resolving d1p17r2m4rzlbo.cloudfront.net (d1p17r2m4rzlbo.cloudfront.net)... 13.224.12.5, 13.224.12.50, 13.224.12.29, ...\n",
            "Connecting to d1p17r2m4rzlbo.cloudfront.net (d1p17r2m4rzlbo.cloudfront.net)|13.224.12.5|:443... connected.\n",
            "HTTP request sent, awaiting response... 200 OK\n",
            "Length: 4309577 (4.1M) [application/octet-stream]\n",
            "Saving to: ‘Political-media-DFE.csv’\n",
            "\n",
            "Political-media-DFE 100%[===================>]   4.11M  --.-KB/s    in 0.06s   \n",
            "\n",
            "2020-02-12 10:04:14 (71.6 MB/s) - ‘Political-media-DFE.csv’ saved [4309577/4309577]\n",
            "\n",
            "--2020-02-12 10:04:15--  https://d1p17r2m4rzlbo.cloudfront.net/wp-content/uploads/2016/03/Full-Economic-News-DFE-839861.csv\n",
            "Resolving d1p17r2m4rzlbo.cloudfront.net (d1p17r2m4rzlbo.cloudfront.net)... 13.224.12.5, 13.224.12.50, 13.224.12.29, ...\n",
            "Connecting to d1p17r2m4rzlbo.cloudfront.net (d1p17r2m4rzlbo.cloudfront.net)|13.224.12.5|:443... connected.\n",
            "HTTP request sent, awaiting response... 200 OK\n",
            "Length: 12383529 (12M) [application/octet-stream]\n",
            "Saving to: ‘Full-Economic-News-DFE-839861.csv’\n",
            "\n",
            "Full-Economic-News- 100%[===================>]  11.81M  --.-KB/s    in 0.08s   \n",
            "\n",
            "2020-02-12 10:04:15 (140 MB/s) - ‘Full-Economic-News-DFE-839861.csv’ saved [12383529/12383529]\n",
            "\n",
            "--2020-02-12 10:04:16--  https://d1p17r2m4rzlbo.cloudfront.net/wp-content/uploads/2016/03/1377883875_similar_word_combinations-1.csv\n",
            "Resolving d1p17r2m4rzlbo.cloudfront.net (d1p17r2m4rzlbo.cloudfront.net)... 13.224.12.5, 13.224.12.50, 13.224.12.29, ...\n",
            "Connecting to d1p17r2m4rzlbo.cloudfront.net (d1p17r2m4rzlbo.cloudfront.net)|13.224.12.5|:443... connected.\n",
            "HTTP request sent, awaiting response... 200 OK\n",
            "Length: 214740 (210K) [application/octet-stream]\n",
            "Saving to: ‘1377883875_similar_word_combinations-1.csv’\n",
            "\n",
            "1377883875_similar_ 100%[===================>] 209.71K  --.-KB/s    in 0.02s   \n",
            "\n",
            "2020-02-12 10:04:16 (8.90 MB/s) - ‘1377883875_similar_word_combinations-1.csv’ saved [214740/214740]\n",
            "\n"
          ],
          "name": "stdout"
        }
      ]
    },
    {
      "cell_type": "code",
      "metadata": {
        "id": "0PwQ2ed47d9s",
        "colab_type": "code",
        "outputId": "2a1a98c4-35f9-42b9-bdef-f7d79a67acd7",
        "colab": {
          "base_uri": "https://localhost:8080/",
          "height": 68
        }
      },
      "source": [
        "#!!wget https://dl.fbaipublicfiles.com/fasttext/vectors-wiki/wiki.simple.zip\n",
        "!!unzip wiki.simple.zip"
      ],
      "execution_count": 0,
      "outputs": [
        {
          "output_type": "execute_result",
          "data": {
            "text/plain": [
              "['Archive:  wiki.simple.zip',\n",
              " '  inflating: wiki.simple.vec         ',\n",
              " '  inflating: wiki.simple.bin         ']"
            ]
          },
          "metadata": {
            "tags": []
          },
          "execution_count": 5
        }
      ]
    },
    {
      "cell_type": "markdown",
      "metadata": {
        "id": "mCDGV4Xs_J6J",
        "colab_type": "text"
      },
      "source": [
        "# Nouvelle section"
      ]
    },
    {
      "cell_type": "code",
      "metadata": {
        "id": "Z9fPcb_d6k3G",
        "colab_type": "code",
        "colab": {}
      },
      "source": [
        "  from gensim.models import FastText\n",
        "cap_path = \"wiki.simple.bin\"\n",
        "#from gensim.models.fasttext import load_facebook_model\n",
        "from gensim.models.wrappers import FastText\n",
        "\n",
        "model_fastext = FastText.load_fasttext_format('wiki.simple.bin')\n",
        "model_fastext\n",
        "#fb_model = load_facebook_model(cap_path)\n"
      ],
      "execution_count": 0,
      "outputs": []
    },
    {
      "cell_type": "code",
      "metadata": {
        "id": "kCxhyGU3BSPQ",
        "colab_type": "code",
        "outputId": "30185853-8237-472e-a6a4-375faf17230c",
        "colab": {
          "base_uri": "https://localhost:8080/",
          "height": 34
        }
      },
      "source": [
        ""
      ],
      "execution_count": 0,
      "outputs": [
        {
          "output_type": "execute_result",
          "data": {
            "text/plain": [
              "<gensim.models.deprecated.fasttext_wrapper.FastText at 0x7f9253fceb00>"
            ]
          },
          "metadata": {
            "tags": []
          },
          "execution_count": 11
        }
      ]
    },
    {
      "cell_type": "markdown",
      "metadata": {
        "id": "53jKUztR-v1w",
        "colab_type": "text"
      },
      "source": [
        "WARNING : To get the movies_metadata.csv file, you need to upload in the runtime the file that is located in this drive. "
      ]
    },
    {
      "cell_type": "code",
      "metadata": {
        "id": "ZTgFkQkg4D-8",
        "colab_type": "code",
        "colab": {}
      },
      "source": [
        "import pandas as pd\n",
        "df_pol = pd.read_csv('Political-media-DFE.csv', encoding='latin-1')\n",
        "df_eco = pd.read_csv('Full-Economic-News-DFE-839861.csv', encoding='latin-1')\n",
        "df_movies = pd.read_csv('movies_metadata.csv')\n",
        "df_sims = pd.read_csv('1377883875_similar_word_combinations-1.csv', encoding='latin-1')"
      ],
      "execution_count": 0,
      "outputs": []
    }
  ]
}