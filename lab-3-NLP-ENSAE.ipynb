{
 "cells": [
  {
   "cell_type": "markdown",
   "metadata": {
    "colab_type": "text",
    "id": "jIMGvo0hFhvp"
   },
   "source": [
    "# Lab session 3 : From textual data modelling to text classification\n",
    "\n",
    "## Lecture 3 recap: Task specific Modelling of Textual Data \n",
    "1. Preprocessing textual data (word segmentation, encoding)\n",
    "2. Modelling: \n",
    "  a. Sequence Labelling (MEMMs, CRF)  \n",
    "  b. Sequence Classification   \n",
    "3. Evaluation \n",
    "\n",
    "## Lab objective\n",
    "\n",
    "In this session, we will focus on Sequence Classification.\n",
    "We will classify tweets according to their sentiment mainly using Scikit-learn as our machine learning toolkit. To do so you will have to:\n",
    "\n",
    "## 1. Preprocess the data\n",
    "Adapt and combine the previous cleaning function (Lab session 2) with Scikit-learn Count Vectorizer or Tf-Idf Vectorizer for the text (X). \n",
    "Using the LabelBinarizer function for labels (Y).\n",
    "\n",
    "## 2. Create training, dev, and test sets\n",
    "\n",
    "## 3. Apply basic classifiers for multiclass classification: Support Vector Machines, Random Forest.\n",
    "\n",
    "## 4. Create a function that gives a quantitative evaluation for a prediction: \n",
    "- precision\n",
    "- recall\n",
    "- f1-score: macro and weighted\n",
    "- accuracy\n",
    "- roc curve for each label\n",
    "\n",
    "## 5. Compare prediction scores using previously trained embeddings (Lab session 2)"
   ]
  },
  {
   "cell_type": "code",
   "execution_count": null,
   "metadata": {
    "colab": {},
    "colab_type": "code",
    "id": "l9h-LKY4J2T8"
   },
   "outputs": [],
   "source": [
    "! wget -O tweets.csv https://raw.githubusercontent.com/gguibon/gguibon.github.io/master/Tweets.csv\n",
    "! wget https://d1p17r2m4rzlbo.cloudfront.net/wp-content/uploads/2016/03/Political-media-DFE.csv"
   ]
  },
  {
   "cell_type": "code",
   "execution_count": null,
   "metadata": {
    "colab": {},
    "colab_type": "code",
    "id": "Y8UJzLeRRV8F"
   },
   "outputs": [],
   "source": [
    "import pandas as pd\n",
    "dfTweets = pd.read_csv('tweets.csv')\n",
    "df_pol = pd.read_csv('Political-media-DFE.csv', encoding='latin-1')"
   ]
  },
  {
   "cell_type": "markdown",
   "metadata": {
    "colab_type": "text",
    "id": "qTbrRNRby-63"
   },
   "source": [
    "Re train pol embeddings (copied and pasted from lab session 2 correction) for later use"
   ]
  },
  {
   "cell_type": "code",
   "execution_count": null,
   "metadata": {
    "colab": {},
    "colab_type": "code",
    "id": "Za0SwyWiy9Wx"
   },
   "outputs": [],
   "source": [
    "# Usage of Phrases and Phraser from gensim\n",
    "import nltk\n",
    "from gensim.models.phrases import Phrases, Phraser\n",
    "from nltk.tokenize import TreebankWordTokenizer, TweetTokenizer\n",
    "nltk.download('punkt')\n",
    "sent_detector = nltk.data.load('tokenizers/punkt/english.pickle')\n",
    "\n",
    "def remove_hashtags(tokens):\n",
    "  tokens = map(lambda x: x.replace('#', ''), tokens)\n",
    "  return list(tokens)\n",
    "\n",
    "def remove_url(tokens):\n",
    "  tokens = filter(lambda x: \"http\" not in x, tokens)\n",
    "  return list(tokens)\n",
    "\n",
    "def remove_html(tokens):\n",
    "  tokens = filter(lambda x: x[0]+x[-1] != '<>', tokens)\n",
    "  return list(tokens)\n",
    "\n",
    "from tqdm import tqdm\n",
    "def tokenize_url_hashtags(corpus, tweets=False):\n",
    "  if tweets:\n",
    "    tokenizer = TweetTokenizer()\n",
    "  else:\n",
    "    tokenizer = TreebankWordTokenizer()  \n",
    "    # Life hack : treebank word tokenizer won't keep html code in one token.\n",
    "    # To preprocess economics news corpus, use tweettokenizer. \n",
    "  tokenized_sentences = []\n",
    "  for sample in tqdm(corpus):\n",
    "    # separating sentences\n",
    "    for sentence in sent_detector.tokenize(sample):\n",
    "      tokens = tokenizer.tokenize(sentence)\n",
    "      tokens = remove_url(tokens)\n",
    "      tokens = remove_html(tokens)\n",
    "      tokens = remove_hashtags(tokens)\n",
    "      tokens = list(map(lambda x: x.lower(), tokens))\n",
    "      tokenized_sentences.append(tokens)\n",
    "  return tokenized_sentences\n",
    "\n",
    "cleaned_pol = tokenize_url_hashtags(df_pol.text.array, tweets=True)\n",
    "\n",
    "\n",
    "from gensim.models.phrases import Phrases, Phraser\n",
    "\n",
    "def clean_corpus(corpus, threshold=50, tweets=False):\n",
    "  tokenized_sentences = tokenize_url_hashtags(corpus, tweets=tweets)\n",
    "  phrases = Phrases(tokenized_sentences, threshold=threshold)\n",
    "\n",
    "  # This lets you use it with less RAM and faster processing.\n",
    "  # But it will no longer be possible to update the detector with new training \n",
    "  # samples\n",
    "  phraser = Phraser(phrases)\n",
    "\n",
    "  # Merging multi-word expressions in the tokenization\n",
    "  clean_corpus = []\n",
    "  for sentence in tokenized_sentences:\n",
    "    clean_corpus.append(phraser[sentence])\n",
    "  \n",
    "  return clean_corpus\n",
    "\n",
    "from gensim.models import Word2Vec\n",
    "from multiprocessing import cpu_count\n",
    "\n",
    "cpu = cpu_count()\n",
    "print('The virtual instance has {} cpus, that will be used to train the word2vec model'.format(cpu))\n",
    "\n",
    "# We will just get the \"WordVectors\" parameter from the trained Word2Vec model.\n",
    "# Otherwise, we could continue training with some more exemples that could be\n",
    "# fed on the fly to the model.\n",
    "print(\"Training the political W2V ...\")\n",
    "pol = Word2Vec(cleaned_pol, size=100, window=5, min_count=3, workers=cpu)\n",
    "pol.train(cleaned_pol, total_examples=len(cleaned_pol), epochs=10)\n",
    "pol_wv = pol.wv"
   ]
  },
  {
   "cell_type": "markdown",
   "metadata": {
    "colab_type": "text",
    "id": "S_nnrk-RVAev"
   },
   "source": [
    "Explore the dataset"
   ]
  },
  {
   "cell_type": "code",
   "execution_count": null,
   "metadata": {
    "colab": {},
    "colab_type": "code",
    "id": "6jVWrfv-Uylv"
   },
   "outputs": [],
   "source": [
    "dfTweets.columns"
   ]
  },
  {
   "cell_type": "code",
   "execution_count": null,
   "metadata": {
    "colab": {},
    "colab_type": "code",
    "id": "hVMwlDrnVPo-"
   },
   "outputs": [],
   "source": [
    "print(dfTweets.text.iloc[0], dfTweets.airline_sentiment.iloc[0])"
   ]
  },
  {
   "cell_type": "code",
   "execution_count": null,
   "metadata": {
    "colab": {},
    "colab_type": "code",
    "id": "KAixG2yWVdEE"
   },
   "outputs": [],
   "source": [
    "dfTweets.head()"
   ]
  },
  {
   "cell_type": "code",
   "execution_count": null,
   "metadata": {
    "colab": {},
    "colab_type": "code",
    "id": "bzWyxdZoaIid"
   },
   "outputs": [],
   "source": [
    "dfTweets.shape"
   ]
  },
  {
   "cell_type": "markdown",
   "metadata": {
    "colab_type": "text",
    "id": "c8gqGu1d1eaR"
   },
   "source": [
    "Here you can find some code for exploring the dataset using unsupervised learning (clustering) and visualization. A good clustering would require better tuned features."
   ]
  },
  {
   "cell_type": "code",
   "execution_count": null,
   "metadata": {
    "colab": {},
    "colab_type": "code",
    "id": "fcSd5n2uDK6U"
   },
   "outputs": [],
   "source": [
    "# HIDDEN for exercice purposes : solve the \"Using pre trained embeddings section to complete this and rerun the clustering\"\n",
    "\n",
    "# from sklearn.feature_extraction.text import CountVectorizer\n",
    "# from sklearn import preprocessing\n",
    "# import numpy as np\n",
    "\n",
    "# def tokens2vectors(tokenCorpus):\n",
    "#   ''' transforms our X into a list of list of vec (2D array) '''\n",
    "#   # uncompleted for exercice purposes : solve the \"Using pre trained embeddings section to complete this and rerun the clustering\"\n",
    "\n",
    "# X = tokens2vectors(dfTweets.loc[:, \"text\"])\n",
    "\n"
   ]
  },
  {
   "cell_type": "code",
   "execution_count": null,
   "metadata": {
    "colab": {},
    "colab_type": "code",
    "id": "0mLE90s3EQFE"
   },
   "outputs": [],
   "source": [
    "# HIDDEN for exercice purposes : solve the \"Using pre trained embeddings section to complete this and rerun the clustering\"\n",
    "\n",
    "# from sklearn.cluster import KMeans\n",
    "# kmeans = KMeans(n_clusters=3, random_state=42, n_init=20, max_iter=1000, verbose=0).fit(X)"
   ]
  },
  {
   "cell_type": "code",
   "execution_count": null,
   "metadata": {
    "colab": {},
    "colab_type": "code",
    "id": "rh_4DAyjrBaZ"
   },
   "outputs": [],
   "source": [
    "# HIDDEN for exercice purposes : solve the \"Using pre trained embeddings section to complete this and rerun the clustering\"\n",
    "\n",
    "\n",
    "# clusters = kmeans.predict(X)"
   ]
  },
  {
   "cell_type": "code",
   "execution_count": null,
   "metadata": {
    "colab": {},
    "colab_type": "code",
    "id": "hnVt_vdUss6h"
   },
   "outputs": [],
   "source": [
    "# HIDDEN for exercice purposes : solve the \"Using pre trained embeddings section to complete this and rerun the clustering\"\n",
    "\n",
    "\n",
    "# print(clusters[0], dfTweets[\"text\"][0], dfTweets[\"airline_sentiment\"][0])\n",
    "\n",
    "# print(clusters[1], dfTweets[\"text\"][1], dfTweets[\"airline_sentiment\"][1])"
   ]
  },
  {
   "cell_type": "code",
   "execution_count": null,
   "metadata": {
    "colab": {},
    "colab_type": "code",
    "id": "SuCr-xFeIS0a"
   },
   "outputs": [],
   "source": [
    "# HIDDEN for exercice purposes : solve the \"Using pre trained embeddings section to complete this and rerun the clustering\"\n",
    "\n",
    "\n",
    "# from sklearn.manifold import TSNE\n",
    "# tsne = TSNE(n_components=2, verbose=1, perplexity=30, learning_rate=100.0, early_exaggeration=2., n_iter=250)\n",
    "# X_tsne = tsne.fit_transform(X)"
   ]
  },
  {
   "cell_type": "code",
   "execution_count": 13,
   "metadata": {
    "colab": {
     "base_uri": "https://localhost:8080/",
     "height": 542,
     "output_embedded_package_id": "1o3aAW_izPgqnedrKnAZSKyskueQ90CxP"
    },
    "colab_type": "code",
    "executionInfo": {
     "elapsed": 5351,
     "status": "ok",
     "timestamp": 1582648222942,
     "user": {
      "displayName": "Gael Guibon",
      "photoUrl": "",
      "userId": "16208742544136185697"
     },
     "user_tz": -60
    },
    "id": "LSoKJEh8Fp_v",
    "outputId": "89e24929-ba32-4275-c816-6a1d0dc7ce9a"
   },
   "outputs": [
    {
     "data": {
      "text/plain": [
       "Output hidden; open in https://colab.research.google.com to view."
      ]
     },
     "metadata": {},
     "output_type": "display_data"
    }
   ],
   "source": [
    "# HIDDEN for exercice purposes : solve the \"Using pre trained embeddings section to complete this and rerun the clustering\"\n",
    "\n",
    "# import plotly.express as px\n",
    "# import plotly.graph_objects as go\n",
    "# import numpy as np\n",
    "\n",
    "\n",
    "# mapColors = {0:'lightseagreen', 1:'blueviolet', 2:'tomato'}\n",
    "# mapSentColors = {'positive':'lightseagreen', 'neutral':'blueviolet', 'negative':'tomato'}\n",
    "# colorsClusters = [mapColors[c] for c in clusters]\n",
    "# colorsSentiment = [mapSentColors[s] for s in dfTweets.airline_sentiment]\n",
    "\n",
    "# fig = go.Figure(data=go.Scatter(\n",
    "#     x = X_tsne[:, 0],\n",
    "#     y = X_tsne[:, 1],\n",
    "#     hovertext = list(zip(dfTweets.loc[:, \"text\"], dfTweets.airline_sentiment)),\n",
    "#     mode='markers+text',\n",
    "#     marker=dict(\n",
    "#         size=4,\n",
    "#         color=colorsClusters, # colorsClusters or colorsSentiment\n",
    "#         colorscale='Viridis',\n",
    "#         showscale=True,\n",
    "#     )\n",
    "# ))\n",
    "# fig.show()"
   ]
  },
  {
   "cell_type": "markdown",
   "metadata": {
    "colab_type": "text",
    "id": "5woJR5YRbACP"
   },
   "source": [
    "# Sentiment Classification Test\n",
    "\n",
    "\n"
   ]
  },
  {
   "cell_type": "markdown",
   "metadata": {
    "colab_type": "text",
    "id": "EjBZZP3b11uM"
   },
   "source": [
    "To start the sentiment classification mockup, you need to check you data."
   ]
  },
  {
   "cell_type": "code",
   "execution_count": null,
   "metadata": {
    "colab": {},
    "colab_type": "code",
    "id": "LfZV1a4sbFQS"
   },
   "outputs": [],
   "source": [
    "# prepare data for a basic classification\n",
    "X = dfTweets.loc[:, \"text\"]\n",
    "print(X)\n",
    "print(X.shape)"
   ]
  },
  {
   "cell_type": "code",
   "execution_count": null,
   "metadata": {
    "colab": {},
    "colab_type": "code",
    "id": "Iisr2NL7b7CW"
   },
   "outputs": [],
   "source": [
    "y = dfTweets.airline_sentiment\n",
    "print(y)\n",
    "print(y.shape)"
   ]
  },
  {
   "cell_type": "markdown",
   "metadata": {
    "colab_type": "text",
    "id": "wMwVSVrKBPXL"
   },
   "source": [
    "## Step 1: Adapt the cleaning function tokenize_url_hashtags for this corpus"
   ]
  },
  {
   "cell_type": "markdown",
   "metadata": {
    "colab_type": "text",
    "id": "3mJoldWCCumb"
   },
   "source": [
    "We take our previous cleaning function and utils and apply it on this dataset. But in order to do so you need to slightly adapt it (we do not need sentences but whole tweets as String)"
   ]
  },
  {
   "cell_type": "code",
   "execution_count": null,
   "metadata": {
    "colab": {},
    "colab_type": "code",
    "id": "-dcpFURJBD6O"
   },
   "outputs": [],
   "source": [
    "from tqdm import tqdm\n",
    "def tokenize_url_hashtags_4tweets(corpus):\n",
    "  ''' modified version for our data structure (flattened and only for tweets proc)'''\n",
    "\n",
    "  # @TODO Adapt me and apply me!\n",
    "\n",
    "  return ..."
   ]
  },
  {
   "cell_type": "markdown",
   "metadata": {
    "colab_type": "text",
    "id": "q5VV4VQMct6P"
   },
   "source": [
    "## Step 2: Create Training set, Dev set and Test set\n"
   ]
  },
  {
   "cell_type": "markdown",
   "metadata": {
    "colab_type": "text",
    "id": "MR2t_nDf2Uc0"
   },
   "source": [
    "In a supervised classification task it is a good practice to slit the dataset into 3 sets:\n",
    "- Training set: **60%**: used to train the classifier and obtain a model\n",
    "- Dev set: **20%**: used to apply the model and check performance while tuning it\n",
    "- Test set: **20%** used as the final performance check to see if the generalization is ok\n",
    "\n",
    "Suggested convenient class: https://scikit-learn.org/stable/modules/generated/sklearn.model_selection.train_test_split.html"
   ]
  },
  {
   "cell_type": "code",
   "execution_count": null,
   "metadata": {
    "colab": {},
    "colab_type": "code",
    "id": "bGI_4puPcypZ"
   },
   "outputs": [],
   "source": [
    "import numpy as np\n",
    "from sklearn.model_selection import train_test_split"
   ]
  },
  {
   "cell_type": "code",
   "execution_count": null,
   "metadata": {
    "colab": {},
    "colab_type": "code",
    "id": "DlnMEPp9c61t"
   },
   "outputs": [],
   "source": [
    "# @TODO create train 60% \n",
    "\n"
   ]
  },
  {
   "cell_type": "code",
   "execution_count": null,
   "metadata": {
    "colab": {},
    "colab_type": "code",
    "id": "YHDfMtpod4Dp"
   },
   "outputs": [],
   "source": [
    "# @TODO create dev 20% test 20% (hence 50% from the 40%)\n"
   ]
  },
  {
   "cell_type": "markdown",
   "metadata": {
    "colab_type": "text",
    "id": "P2IuD_CjfSr5"
   },
   "source": [
    "## Preprocessing Text and Labels\n"
   ]
  },
  {
   "cell_type": "markdown",
   "metadata": {
    "colab_type": "text",
    "id": "oHzMc3Ck6Edc"
   },
   "source": [
    "We obtained our cleaned text in separate sets. Now we need to transform the text (the X sets) into vectors. Multiple approaches are available there. \n",
    "Start by using the CountVectorizer (bag of words and their occurrence counts in a sparse matrix).\n",
    "\n",
    "https://scikit-learn.org/stable/modules/generated/sklearn.feature_extraction.text.CountVectorizer.html#sklearn.feature_extraction.text.CountVectorizer"
   ]
  },
  {
   "cell_type": "markdown",
   "metadata": {
    "colab_type": "text",
    "id": "bOn8kWrZgi2P"
   },
   "source": [
    "Processing Text (X)"
   ]
  },
  {
   "cell_type": "code",
   "execution_count": null,
   "metadata": {
    "colab": {},
    "colab_type": "code",
    "id": "yFCN9x6MfXAD"
   },
   "outputs": [],
   "source": [
    "from sklearn.feature_extraction.text import CountVectorizer\n",
    "# @TODO for training set"
   ]
  },
  {
   "cell_type": "code",
   "execution_count": null,
   "metadata": {
    "colab": {},
    "colab_type": "code",
    "id": "NyNPTdTghv7z"
   },
   "outputs": [],
   "source": [
    "# @TODO same goes for dev set\n"
   ]
  },
  {
   "cell_type": "markdown",
   "metadata": {
    "colab_type": "text",
    "id": "U3A6mphd6pdg"
   },
   "source": [
    "You need to do the same for labels. A binarization is the way to go as we want a matrix representing each label. \n",
    "\n",
    "https://scikit-learn.org/stable/modules/generated/sklearn.preprocessing.LabelBinarizer.html"
   ]
  },
  {
   "cell_type": "markdown",
   "metadata": {
    "colab_type": "text",
    "id": "CQvOKoWRgmHG"
   },
   "source": [
    "Processing Labels (y)"
   ]
  },
  {
   "cell_type": "code",
   "execution_count": null,
   "metadata": {
    "colab": {},
    "colab_type": "code",
    "id": "Y1KHpNq_goQ9"
   },
   "outputs": [],
   "source": [
    "from sklearn import preprocessing\n",
    "# @TODO binarize labels manually or using scikitlearn (recommended)"
   ]
  },
  {
   "cell_type": "markdown",
   "metadata": {
    "colab_type": "text",
    "id": "QfbcmpgNcjJW"
   },
   "source": [
    "## Basic Support Vector Machine\n"
   ]
  },
  {
   "cell_type": "markdown",
   "metadata": {
    "colab_type": "text",
    "id": "1chEL3GO6_Wq"
   },
   "source": [
    "Now that we extracted very basic features from our tweets (bag of word), we need to apply a simple classifier to predict for each tweet if it is positive neutral or negative. This is a multiclass classification. \n",
    "\n",
    "You will use **Support Vector Machine** (SVM) for this but in a multiclass fashion (SVM separate data between two labels but we have three labels). For this we can apply a SVM for each label trying to find if it belongs to the target label or something else: this is a **One Versus Rest** approach. Please use the two links below (linearSVC is faster, hence best suited for this exercice)\n",
    "\n",
    "The classifier should be trained on train set and apply on dev set.\n",
    "\n",
    "https://scikit-learn.org/stable/modules/generated/sklearn.multiclass.OneVsRestClassifier.html#sklearn.multiclass.OneVsRestClassifier\n",
    "\n",
    "https://scikit-learn.org/stable/modules/generated/sklearn.svm.LinearSVC.html#sklearn.svm.LinearSVC\n",
    "\n",
    "Do not forget the main methods:\n",
    "\n",
    "```python\n",
    ".fit(X)\n",
    "```\n",
    "\n",
    "```python\n",
    ".predict(y) # returns a list of predictions \n",
    "```\n",
    "\n"
   ]
  },
  {
   "cell_type": "code",
   "execution_count": null,
   "metadata": {
    "colab": {},
    "colab_type": "code",
    "id": "o6yCG4tIcdsR"
   },
   "outputs": [],
   "source": [
    "from sklearn.multiclass import OneVsRestClassifier\n",
    "from sklearn.svm import LinearSVC\n",
    "# @TODO init and train classifier on training set"
   ]
  },
  {
   "cell_type": "code",
   "execution_count": null,
   "metadata": {
    "colab": {},
    "colab_type": "code",
    "id": "FdzA7SgrkGvH"
   },
   "outputs": [],
   "source": [
    "# @TODO predict on dev set using trained classifier"
   ]
  },
  {
   "cell_type": "code",
   "execution_count": null,
   "metadata": {
    "colab": {},
    "colab_type": "code",
    "id": "LUWZ6QVYlntk"
   },
   "outputs": [],
   "source": [
    "# @TODO print the first 5 rows for verified labels and predicted ones"
   ]
  },
  {
   "cell_type": "markdown",
   "metadata": {
    "colab_type": "text",
    "id": "BqQU4wDj26gz"
   },
   "source": [
    "## Create an eval function that accept y_true, y_pred, the label binarizer and the trained classifier as arguments.\n",
    "\n",
    "It should display multiple quantitative evaluations:\n",
    "- precision\n",
    "- recall\n",
    "- f1-score\n",
    "\n",
    "*y_true* = the verified labels (from the dataset)\n",
    "*y_pred* = the predicted labels (by the LinearSVC)\n",
    "\n",
    "https://scikit-learn.org/stable/modules/generated/sklearn.metrics.classification_report.html\n",
    "\n",
    "https://scikit-learn.org/stable/modules/generated/sklearn.metrics.confusion_matrix.html#sklearn.metrics.confusion_matrix\n",
    "\n",
    "\n",
    "For the ROC curve you need to compute it separtely for each label *y* and then plot it using the mockup. \n",
    "\n",
    "https://scikit-learn.org/stable/modules/generated/sklearn.metrics.auc.html#sklearn.metrics.auc\n",
    "\n",
    "https://scikit-learn.org/stable/modules/generated/sklearn.metrics.roc_curve.html#sklearn.metrics.roc_curve\n",
    "\n",
    "\n",
    "\n"
   ]
  },
  {
   "cell_type": "code",
   "execution_count": null,
   "metadata": {
    "colab": {},
    "colab_type": "code",
    "id": "l3iixyNXq0Z6"
   },
   "outputs": [],
   "source": [
    "from sklearn.metrics import classification_report, confusion_matrix, roc_curve, auc\n",
    "import matplotlib.pyplot as plt\n",
    "import seaborn as sn\n",
    "\n",
    "def show_eval(y_true, y_pred, lb_trained, clf):\n",
    "  ''' \n",
    "  Show eval metrics.  Takes binarized y true and y pred along with trained binarizer for label names\n",
    "  '''\n",
    "  \n",
    "  # @TODO complete me\n",
    "\n",
    "  labels = ['negative', 'neutral', 'positive']\n",
    "  \n",
    "\n",
    "  # calculate ROC and auc\n",
    "\n",
    "  # config plot sizes\n",
    "  # left here to display plots\n",
    "  # requires you to set multiple variables: \n",
    "  # - df_cm (pandas dataframe confusion matrix)\n",
    "  # - roc_auc (dict {label_index:auc_score})\n",
    "  # - frp and trp : false/true positives as a dict {label_index:value } -- see roc_curve documentation link ---\n",
    "  sn.set(font_scale=1.2)\n",
    "  sn.heatmap(df_cm, annot=True, annot_kws={\"size\": 18}, cmap='coolwarm', linewidth=0.5, fmt=\"\")\n",
    "  plt.show()\n",
    "\n",
    "  for i, label in enumerate(labels):\n",
    "    plt.figure()\n",
    "    plt.plot(fpr[i], tpr[i], label='ROC curve (area = %0.2f)' % roc_auc[i])\n",
    "    plt.plot([0, 1], [0, 1], 'k--')\n",
    "    plt.xlim([0.0, 1.0])\n",
    "    plt.ylim([0.0, 1.05])\n",
    "    plt.xlabel('False Positive Rate')\n",
    "    plt.ylabel('True Positive Rate')\n",
    "    plt.title('Receiver operating characteristic for '+label)\n",
    "    plt.legend(loc=\"lower right\")\n",
    "    plt.show()\n"
   ]
  },
  {
   "cell_type": "code",
   "execution_count": null,
   "metadata": {
    "colab": {
     "base_uri": "https://localhost:8080/",
     "height": 1000
    },
    "colab_type": "code",
    "executionInfo": {
     "elapsed": 2584,
     "status": "ok",
     "timestamp": 1582645262559,
     "user": {
      "displayName": "Gael Guibon",
      "photoUrl": "",
      "userId": "16208742544136185697"
     },
     "user_tz": -60
    },
    "id": "MhEYmlWFzZFH",
    "outputId": "e8374420-4512-48fd-dce7-84ff61e885ac"
   },
   "outputs": [
    {
     "name": "stdout",
     "output_type": "stream",
     "text": [
      "              precision    recall  f1-score   support\n",
      "\n",
      "    negative       0.81      0.90      0.85      1855\n",
      "     neutral       0.59      0.51      0.55       607\n",
      "    positive       0.76      0.53      0.63       466\n",
      "\n",
      "    accuracy                           0.76      2928\n",
      "   macro avg       0.72      0.65      0.68      2928\n",
      "weighted avg       0.75      0.76      0.75      2928\n",
      "\n"
     ]
    },
    {
     "data": {
      "image/png": "[encoded data removed]",
      "text/plain": [
       "<Figure size 432x288 with 2 Axes>"
      ]
     },
     "metadata": {
      "tags": []
     },
     "output_type": "display_data"
    },
    {
     "name": "stdout",
     "output_type": "stream",
     "text": [
      "negative 0.7892743473094807\n",
      "neutral 0.7142979329905944\n",
      "positive 0.7770436819920299\n"
     ]
    },
    {
     "data": {
      "image/png": "[encoded data removed]",
      "text/plain": [
       "<Figure size 432x288 with 1 Axes>"
      ]
     },
     "metadata": {
      "tags": []
     },
     "output_type": "display_data"
    },
    {
     "data": {
      "image/png": "[encoded data removed]",
      "text/plain": [
       "<Figure size 432x288 with 1 Axes>"
      ]
     },
     "metadata": {
      "tags": []
     },
     "output_type": "display_data"
    },
    {
     "data": {
      "image/png": "[encoded data removed]",
      "text/plain": [
       "<Figure size 432x288 with 1 Axes>"
      ]
     },
     "metadata": {
      "tags": []
     },
     "output_type": "display_data"
    }
   ],
   "source": [
    "show_eval(y_dev_lb, y_pred_svm, lb_trained, clf_svm)"
   ]
  },
  {
   "cell_type": "markdown",
   "metadata": {
    "colab_type": "text",
    "id": "hZi1Dnxxu4Q0"
   },
   "source": [
    "## Using Random Forest (Multiple decision trees)"
   ]
  },
  {
   "cell_type": "markdown",
   "metadata": {
    "colab_type": "text",
    "id": "9XbuGg1NAk1M"
   },
   "source": [
    "Now apply the same task and logic but using **Random Forest** instead.\n",
    "\n",
    "Please note that you do not need the **OneVSRestClassifier** class for this one.\n",
    "\n",
    "https://scikit-learn.org/stable/modules/generated/sklearn.ensemble.RandomForestClassifier.html\n",
    "\n",
    "Tips: \n",
    "- for faster computation reduce the number of trees in the forest (i.e. estimators)\n",
    "```python\n",
    "n_estimators=300\n",
    "```\n",
    "- use all available cores from the CPU:\n",
    "```python\n",
    "n_jobs=-1\n",
    "```\n"
   ]
  },
  {
   "cell_type": "code",
   "execution_count": null,
   "metadata": {
    "colab": {},
    "colab_type": "code",
    "id": "kwb240bLu_35"
   },
   "outputs": [],
   "source": [
    "from sklearn.ensemble import RandomForestClassifier\n",
    "# @TODO train RF classifier"
   ]
  },
  {
   "cell_type": "code",
   "execution_count": null,
   "metadata": {
    "colab": {},
    "colab_type": "code",
    "id": "i99YOm3pyifl"
   },
   "outputs": [],
   "source": [
    "# @TODO use trained classifier and predict on dev\n",
    "# @TODO use eval function to display eval metrics"
   ]
  },
  {
   "cell_type": "markdown",
   "metadata": {
    "colab_type": "text",
    "id": "ga9VTt6sZnxo"
   },
   "source": [
    "## Using pre-trained word embeddings"
   ]
  },
  {
   "cell_type": "markdown",
   "metadata": {
    "colab_type": "text",
    "id": "6V7SJd40BVr6"
   },
   "source": [
    "Apply the same task but using the embeddings vectors trained in the previous session and available in gensim model variable **pol_vw**. Use these embeddings as an input for **LinearSVC** and **Random Forest** classifiers.\n",
    "\n",
    "Beware of the out of vocabulary words, find a way to handle them.\n",
    "\n",
    "Remember we need a two dimensional array as a result:\n",
    "(8784, 100)"
   ]
  },
  {
   "cell_type": "code",
   "execution_count": null,
   "metadata": {
    "colab": {},
    "colab_type": "code",
    "id": "FjVQjI6nZm3k"
   },
   "outputs": [],
   "source": [
    "# Create a function to transform the corpus into an embedding one\n",
    "def tokens2vectors(tokenCorpus):\n",
    "  ''' transforms our X into a list of list of vec (2D array) '''\n",
    "  # @TODO complete me\n",
    "\n",
    "\n",
    "# @TODO use tokens2vectors for training and dev sets\n"
   ]
  },
  {
   "cell_type": "code",
   "execution_count": null,
   "metadata": {
    "colab": {},
    "colab_type": "code",
    "id": "LM3o15oleo90"
   },
   "outputs": [],
   "source": [
    "from sklearn.multiclass import OneVsRestClassifier\n",
    "from sklearn.svm import LinearSVC\n",
    "# @TODO Train linearSVC on new X with embeddings vectors"
   ]
  },
  {
   "cell_type": "code",
   "execution_count": null,
   "metadata": {
    "colab": {},
    "colab_type": "code",
    "id": "9xRoTe2U8xbq"
   },
   "outputs": [],
   "source": [
    "# @TODO predict sentiment on dev set (embedding version)\n",
    "\n",
    "# @TODO display its evaluation"
   ]
  },
  {
   "cell_type": "code",
   "execution_count": null,
   "metadata": {
    "colab": {},
    "colab_type": "code",
    "id": "M8bOauDeD4x0"
   },
   "outputs": [],
   "source": [
    "from sklearn.ensemble import RandomForestClassifier\n",
    "# @TODO train RF classifier on train set (embeddings version)"
   ]
  },
  {
   "cell_type": "code",
   "execution_count": null,
   "metadata": {
    "colab": {},
    "colab_type": "code",
    "id": "5G1Qzwk1Edi6"
   },
   "outputs": [],
   "source": [
    "# @TODO predict sentiment on dev set (embedding version) using random forest\n",
    "\n",
    "# @TODO display its evaluation"
   ]
  },
  {
   "cell_type": "markdown",
   "metadata": {
    "colab_type": "text",
    "id": "tKvAI7k0JzE5"
   },
   "source": [
    "Here you go. You did apply some very basic supervised learning on tweets using extracted generic textual features (bag of words with counts) and two types of classifiers (decision tree based and support vector machine based).\n",
    "\n",
    "Congratulations and see you soon for the next session.\n"
   ]
  }
 ],
 "metadata": {
  "colab": {
   "collapsed_sections": [],
   "name": "lab-3-NLP-ENSAE.ipynb",
   "provenance": [],
   "toc_visible": true
  },
  "kernelspec": {
   "display_name": "Python 3",
   "language": "python",
   "name": "python3"
  },
  "language_info": {
   "codemirror_mode": {
    "name": "ipython",
    "version": 3
   },
   "file_extension": ".py",
   "mimetype": "text/x-python",
   "name": "python",
   "nbconvert_exporter": "python",
   "pygments_lexer": "ipython3",
   "version": "3.7.4"
  }
 },
 "nbformat": 4,
 "nbformat_minor": 4
}
